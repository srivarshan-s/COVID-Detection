{
 "cells": [
  {
   "cell_type": "markdown",
   "id": "69a6152d",
   "metadata": {},
   "source": [
    "# COVID DETECTION USING IMAGE PROCESSING<br>\n",
    "## Srivarshan-19BAI1078\n",
    "## Kaarthik E-19BAI1096\n",
    "## Prithvi Seshadri-19BAI1105"
   ]
  },
  {
   "cell_type": "code",
   "execution_count": 9,
   "id": "b182ee0e",
   "metadata": {},
   "outputs": [],
   "source": [
    "import matplotlib.pyplot as plt\n",
    "import numpy as np\n",
    "import os\n",
    "import PIL\n",
    "import tensorflow as tf\n",
    "from tensorflow.keras.preprocessing.image import ImageDataGenerator\n",
    "from tensorflow import keras\n",
    "from tensorflow.keras import layers\n",
    "from tensorflow.keras.models import Sequential"
   ]
  },
  {
   "cell_type": "code",
   "execution_count": 10,
   "id": "9ffa1d58",
   "metadata": {},
   "outputs": [],
   "source": [
    "train_dir = \"Data/train/\"\n",
    "val_dir = \"Data/test/\""
   ]
  },
  {
   "cell_type": "code",
   "execution_count": 11,
   "id": "384db9b5",
   "metadata": {},
   "outputs": [],
   "source": [
    "train_datagen = ImageDataGenerator(rescale=1./255)\n",
    "val_datagen = ImageDataGenerator(rescale=1./255)"
   ]
  },
  {
   "cell_type": "code",
   "execution_count": 12,
   "id": "934745e5",
   "metadata": {},
   "outputs": [
    {
     "name": "stdout",
     "output_type": "stream",
     "text": [
      "Found 1726 images belonging to 2 classes.\n"
     ]
    }
   ],
   "source": [
    "train_gen = train_datagen.flow_from_directory(\n",
    "    train_dir, target_size=(150, 150), batch_size=1, class_mode='categorical')"
   ]
  },
  {
   "cell_type": "code",
   "execution_count": 13,
   "id": "39f95bc5",
   "metadata": {},
   "outputs": [
    {
     "name": "stdout",
     "output_type": "stream",
     "text": [
      "Found 433 images belonging to 2 classes.\n"
     ]
    }
   ],
   "source": [
    "val_gen = val_datagen.flow_from_directory(\n",
    "    val_dir, target_size=(150, 150), batch_size=1, class_mode='categorical')"
   ]
  },
  {
   "cell_type": "code",
   "execution_count": 14,
   "id": "d429cb82",
   "metadata": {},
   "outputs": [],
   "source": [
    "model = tf.keras.models.Sequential([\n",
    "    tf.keras.layers.Conv2D(64, (3, 3), activation='relu',\n",
    "                           input_shape=(150, 150, 3)),\n",
    "    tf.keras.layers.MaxPooling2D(2, 2),\n",
    "    tf.keras.layers.Conv2D(64, (3, 3), activation='relu'),\n",
    "    tf.keras.layers.MaxPooling2D(2, 2),\n",
    "    tf.keras.layers.Conv2D(128, (3, 3), activation='relu'),\n",
    "    tf.keras.layers.MaxPooling2D(2, 2),\n",
    "    tf.keras.layers.Conv2D(128, (3, 3), activation='relu'),\n",
    "    tf.keras.layers.MaxPooling2D(2, 2),\n",
    "    tf.keras.layers.Flatten(),\n",
    "    tf.keras.layers.Dropout(0.5),\n",
    "    tf.keras.layers.Dense(512, activation='relu'),\n",
    "    tf.keras.layers.Dense(2, activation='softmax')\n",
    "])"
   ]
  },
  {
   "cell_type": "code",
   "execution_count": 15,
   "id": "c36487dd",
   "metadata": {},
   "outputs": [],
   "source": [
    "model.compile(loss='categorical_crossentropy',\n",
    "              optimizer='rmsprop', metrics=['accuracy'])"
   ]
  },
  {
   "cell_type": "code",
   "execution_count": 16,
   "id": "474d98eb",
   "metadata": {},
   "outputs": [
    {
     "name": "stdout",
     "output_type": "stream",
     "text": [
      "Epoch 1/20\n",
      "1726/1726 [==============================] - 272s 157ms/step - loss: 0.5504 - accuracy: 0.8975 - val_loss: 0.1023 - val_accuracy: 0.9700\n",
      "Epoch 2/20\n",
      "1726/1726 [==============================] - 207s 120ms/step - loss: 0.3915 - accuracy: 0.9594 - val_loss: 0.0691 - val_accuracy: 0.9815\n",
      "Epoch 3/20\n",
      "1726/1726 [==============================] - 209s 121ms/step - loss: 0.4838 - accuracy: 0.9589 - val_loss: 0.0291 - val_accuracy: 0.9861\n",
      "Epoch 4/20\n",
      "1726/1726 [==============================] - 208s 121ms/step - loss: 0.3681 - accuracy: 0.9652 - val_loss: 0.0237 - val_accuracy: 0.9908\n",
      "Epoch 5/20\n",
      "1726/1726 [==============================] - 208s 121ms/step - loss: 0.2500 - accuracy: 0.9722 - val_loss: 0.0674 - val_accuracy: 0.9931\n",
      "Epoch 6/20\n",
      "1726/1726 [==============================] - 208s 121ms/step - loss: 0.2969 - accuracy: 0.9768 - val_loss: 0.0752 - val_accuracy: 0.9885\n",
      "Epoch 7/20\n",
      "1726/1726 [==============================] - 209s 121ms/step - loss: 0.3267 - accuracy: 0.9733 - val_loss: 0.8295 - val_accuracy: 0.9238\n",
      "Epoch 8/20\n",
      "1726/1726 [==============================] - 209s 121ms/step - loss: 0.2942 - accuracy: 0.9768 - val_loss: 0.1643 - val_accuracy: 0.9815\n",
      "Epoch 9/20\n",
      "1726/1726 [==============================] - 209s 121ms/step - loss: 0.3538 - accuracy: 0.9768 - val_loss: 0.0922 - val_accuracy: 0.9838\n",
      "Epoch 10/20\n",
      "1726/1726 [==============================] - 207s 120ms/step - loss: 0.2521 - accuracy: 0.9832 - val_loss: 0.0710 - val_accuracy: 0.9908\n",
      "Epoch 11/20\n",
      "1726/1726 [==============================] - 208s 120ms/step - loss: 0.3412 - accuracy: 0.9797 - val_loss: 0.0820 - val_accuracy: 0.9885\n",
      "Epoch 12/20\n",
      "1726/1726 [==============================] - 207s 120ms/step - loss: 0.2195 - accuracy: 0.9844 - val_loss: 0.0867 - val_accuracy: 0.9908\n",
      "Epoch 13/20\n",
      "1726/1726 [==============================] - 208s 120ms/step - loss: 0.3156 - accuracy: 0.9809 - val_loss: 0.6081 - val_accuracy: 0.9561\n",
      "Epoch 14/20\n",
      "1726/1726 [==============================] - 207s 120ms/step - loss: 0.3335 - accuracy: 0.9786 - val_loss: 0.1684 - val_accuracy: 0.9885\n",
      "Epoch 15/20\n",
      "1726/1726 [==============================] - 206s 119ms/step - loss: 0.2935 - accuracy: 0.9849 - val_loss: 0.0770 - val_accuracy: 0.9885\n",
      "Epoch 16/20\n",
      "1726/1726 [==============================] - 207s 120ms/step - loss: 0.3068 - accuracy: 0.9826 - val_loss: 0.0810 - val_accuracy: 0.9908\n",
      "Epoch 17/20\n",
      "1726/1726 [==============================] - 206s 119ms/step - loss: 0.2172 - accuracy: 0.9878 - val_loss: 0.2918 - val_accuracy: 0.9931\n",
      "Epoch 18/20\n",
      "1726/1726 [==============================] - 208s 120ms/step - loss: 0.2621 - accuracy: 0.9774 - val_loss: 0.0736 - val_accuracy: 0.9908\n",
      "Epoch 19/20\n",
      "1726/1726 [==============================] - 207s 120ms/step - loss: 0.2863 - accuracy: 0.9809 - val_loss: 0.0899 - val_accuracy: 0.9931\n",
      "Epoch 20/20\n",
      "1726/1726 [==============================] - 207s 120ms/step - loss: 0.1336 - accuracy: 0.9890 - val_loss: 0.0501 - val_accuracy: 0.9931\n"
     ]
    },
    {
     "data": {
      "text/plain": [
       "<tensorflow.python.keras.callbacks.History at 0x7f8d34420850>"
      ]
     },
     "execution_count": 16,
     "metadata": {},
     "output_type": "execute_result"
    }
   ],
   "source": [
    "model.fit(train_gen, epochs=20, shuffle=True, verbose=1)"
   ]
  },
  {
   "cell_type": "code",
   "execution_count": 17,
   "id": "ca201c43",
   "metadata": {},
   "outputs": [
    {
     "name": "stdout",
     "output_type": "stream",
     "text": [
      "433/433 [==============================] - 15s 34ms/step - loss: 0.0501 - accuracy: 0.9931\n"
     ]
    }
   ],
   "source": [
    "result = model.evaluate(val_gen, verbose=1)"
   ]
  },
  {
   "cell_type": "code",
   "execution_count": 18,
   "id": "9c47955b",
   "metadata": {},
   "outputs": [
    {
     "name": "stdout",
     "output_type": "stream",
     "text": [
      "Model Loss :  5.006642267107964 %\n",
      "Model Accuracy :  99.30716156959534 %\n"
     ]
    }
   ],
   "source": [
    "print(\"Model Loss : \", result[0] * 100, \"%\")\n",
    "print(\"Model Accuracy : \", result[1] * 100, \"%\")"
   ]
  }
 ],
 "metadata": {
  "kernelspec": {
   "display_name": "Python 3",
   "language": "python",
   "name": "python3"
  },
  "language_info": {
   "codemirror_mode": {
    "name": "ipython",
    "version": 3
   },
   "file_extension": ".py",
   "mimetype": "text/x-python",
   "name": "python",
   "nbconvert_exporter": "python",
   "pygments_lexer": "ipython3",
   "version": "3.8.5"
  }
 },
 "nbformat": 4,
 "nbformat_minor": 5
}
