{
 "cells": [
  {
   "cell_type": "markdown",
   "id": "69a6152d",
   "metadata": {},
   "source": [
    "# COVID DETECTION USING IMAGE PROCESSING<br>\n",
    "## Srivarshan-19BAI1078\n",
    "## Kaarthik E-19BAI1096\n",
    "## Prithvi Seshadri-19BAI1105"
   ]
  },
  {
   "cell_type": "code",
   "execution_count": 1,
   "id": "b182ee0e",
   "metadata": {},
   "outputs": [],
   "source": [
    "import matplotlib.pyplot as plt\n",
    "import numpy as np\n",
    "import os\n",
    "import PIL\n",
    "import tensorflow as tf\n",
    "from tensorflow.keras.preprocessing.image import ImageDataGenerator\n",
    "from tensorflow import keras\n",
    "from tensorflow.keras import layers\n",
    "from tensorflow.keras.models import Sequential"
   ]
  },
  {
   "cell_type": "code",
   "execution_count": 2,
   "id": "9ffa1d58",
   "metadata": {},
   "outputs": [],
   "source": [
    "train_dir = \"Data/train/\"\n",
    "val_dir = \"Data/test/\""
   ]
  },
  {
   "cell_type": "code",
   "execution_count": 3,
   "id": "384db9b5",
   "metadata": {},
   "outputs": [],
   "source": [
    "train_datagen = ImageDataGenerator(rescale=1./255)\n",
    "val_datagen = ImageDataGenerator(rescale=1./255)"
   ]
  },
  {
   "cell_type": "code",
   "execution_count": 4,
   "id": "934745e5",
   "metadata": {},
   "outputs": [
    {
     "name": "stdout",
     "output_type": "stream",
     "text": [
      "Found 1726 images belonging to 2 classes.\n"
     ]
    }
   ],
   "source": [
    "train_gen = train_datagen.flow_from_directory(\n",
    "    train_dir, target_size=(150, 150), batch_size=1, class_mode='categorical')"
   ]
  },
  {
   "cell_type": "code",
   "execution_count": 5,
   "id": "39f95bc5",
   "metadata": {},
   "outputs": [
    {
     "name": "stdout",
     "output_type": "stream",
     "text": [
      "Found 433 images belonging to 2 classes.\n"
     ]
    }
   ],
   "source": [
    "val_gen = val_datagen.flow_from_directory(\n",
    "    val_dir, target_size=(150, 150), batch_size=1, class_mode='categorical')"
   ]
  },
  {
   "cell_type": "code",
   "execution_count": 6,
   "id": "d429cb82",
   "metadata": {},
   "outputs": [],
   "source": [
    "model = tf.keras.models.Sequential([\n",
    "    tf.keras.layers.Conv2D(64, (3, 3), activation='relu',\n",
    "                           input_shape=(150, 150, 3)),\n",
    "    tf.keras.layers.MaxPooling2D(2, 2),\n",
    "    tf.keras.layers.Conv2D(64, (3, 3), activation='relu'),\n",
    "    tf.keras.layers.MaxPooling2D(2, 2),\n",
    "    tf.keras.layers.Conv2D(128, (3, 3), activation='relu'),\n",
    "    tf.keras.layers.MaxPooling2D(2, 2),\n",
    "    tf.keras.layers.Conv2D(128, (3, 3), activation='relu'),\n",
    "    tf.keras.layers.MaxPooling2D(2, 2),\n",
    "    tf.keras.layers.Flatten(),\n",
    "    tf.keras.layers.Dropout(0.5),\n",
    "    tf.keras.layers.Dense(512, activation='relu'),\n",
    "    tf.keras.layers.Dense(2, activation='softmax')\n",
    "])"
   ]
  },
  {
   "cell_type": "code",
   "execution_count": 7,
   "id": "c36487dd",
   "metadata": {},
   "outputs": [],
   "source": [
    "model.compile(loss='categorical_crossentropy',\n",
    "              optimizer='rmsprop', metrics=['accuracy'])"
   ]
  },
  {
   "cell_type": "code",
   "execution_count": 8,
   "id": "474d98eb",
   "metadata": {},
   "outputs": [
    {
     "name": "stdout",
     "output_type": "stream",
     "text": [
      "Epoch 1/8\n",
      "1726/1726 [==============================] - 171s 98ms/step - loss: 0.7556 - accuracy: 0.8597 - val_loss: 0.1302 - val_accuracy: 0.9815\n",
      "Epoch 2/8\n",
      "1726/1726 [==============================] - 165s 96ms/step - loss: 0.4353 - accuracy: 0.9498 - val_loss: 0.1033 - val_accuracy: 0.9815\n",
      "Epoch 3/8\n",
      "1726/1726 [==============================] - 167s 97ms/step - loss: 0.5118 - accuracy: 0.9679 - val_loss: 0.3957 - val_accuracy: 0.9607\n",
      "Epoch 4/8\n",
      "1726/1726 [==============================] - 167s 97ms/step - loss: 0.3089 - accuracy: 0.9610 - val_loss: 0.1458 - val_accuracy: 0.9861\n",
      "Epoch 5/8\n",
      "1726/1726 [==============================] - 167s 97ms/step - loss: 0.2161 - accuracy: 0.9793 - val_loss: 0.0507 - val_accuracy: 0.9908\n",
      "Epoch 6/8\n",
      "1726/1726 [==============================] - 167s 97ms/step - loss: 0.3724 - accuracy: 0.9793 - val_loss: 0.0243 - val_accuracy: 0.9931\n",
      "Epoch 7/8\n",
      "1726/1726 [==============================] - 165s 96ms/step - loss: 0.2722 - accuracy: 0.9769 - val_loss: 0.0823 - val_accuracy: 0.9885\n",
      "Epoch 8/8\n",
      "1726/1726 [==============================] - 167s 96ms/step - loss: 0.3617 - accuracy: 0.9792 - val_loss: 0.0354 - val_accuracy: 0.9931\n"
     ]
    },
    {
     "data": {
      "text/plain": [
       "<tensorflow.python.keras.callbacks.History at 0x7fd928074490>"
      ]
     },
     "execution_count": 8,
     "metadata": {},
     "output_type": "execute_result"
    }
   ],
   "source": [
    "model.fit(train_gen, epochs=8, validation_data=val_gen, verbose=1)"
   ]
  },
  {
   "cell_type": "code",
   "execution_count": 11,
   "id": "ca201c43",
   "metadata": {},
   "outputs": [
    {
     "name": "stdout",
     "output_type": "stream",
     "text": [
      "433/433 [==============================] - 16s 38ms/step - loss: 0.0354 - accuracy: 0.9931\n"
     ]
    }
   ],
   "source": [
    "result = model.evaluate(val_gen, verbose=1)"
   ]
  },
  {
   "cell_type": "code",
   "execution_count": 14,
   "id": "9c47955b",
   "metadata": {},
   "outputs": [
    {
     "name": "stdout",
     "output_type": "stream",
     "text": [
      "Model Loss :  3.541366383433342 %\n",
      "Model Accuracy :  99.30716156959534 %\n"
     ]
    }
   ],
   "source": [
    "print(\"Model Loss : \", result[0] * 100, \"%\")\n",
    "print(\"Model Accuracy : \", result[1] * 100, \"%\")"
   ]
  }
 ],
 "metadata": {
  "kernelspec": {
   "display_name": "Python 3",
   "language": "python",
   "name": "python3"
  },
  "language_info": {
   "codemirror_mode": {
    "name": "ipython",
    "version": 3
   },
   "file_extension": ".py",
   "mimetype": "text/x-python",
   "name": "python",
   "nbconvert_exporter": "python",
   "pygments_lexer": "ipython3",
   "version": "3.8.5"
  }
 },
 "nbformat": 4,
 "nbformat_minor": 5
}
